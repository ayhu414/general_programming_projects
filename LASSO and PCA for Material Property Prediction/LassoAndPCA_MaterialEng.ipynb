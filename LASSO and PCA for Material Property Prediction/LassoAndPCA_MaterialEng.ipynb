{
 "cells": [
  {
   "cell_type": "markdown",
   "id": "64a017c5-0352-4286-b0ef-e1570557f78d",
   "metadata": {},
   "source": [
    "Loading Libraries"
   ]
  },
  {
   "cell_type": "code",
   "execution_count": 1,
   "id": "b7a24441-e381-45fb-8320-6a6e3a2098dd",
   "metadata": {},
   "outputs": [],
   "source": [
    "%matplotlib inline\n",
    "from matplotlib import pyplot as plt\n",
    "from sklearn.pipeline import Pipeline\n",
    "from sklearn.preprocessing import StandardScaler\n",
    "from sklearn.decomposition import PCA\n",
    "from sklearn.model_selection import train_test_split\n",
    "from sklearn.linear_model import LassoCV\n",
    "from sklearn.metrics import r2_score, mean_absolute_error\n",
    "from sklearn.ensemble import RandomForestRegressor as rf\n",
    "from sklearn.ensemble import RandomForestClassifier as rfclassifier\n",
    "from sklearn.feature_selection import RFE \n",
    "from mordred import Calculator, descriptors\n",
    "from sklearn.neighbors import KNeighborsRegressor\n",
    "from sklearn.base import BaseEstimator, TransformerMixin\n",
    "from rdkit.Chem import AllChem\n",
    "from rdkit import DataStructs\n",
    "from tqdm import tqdm\n",
    "from rdkit import Chem\n",
    "import pandas as pd\n",
    "import numpy as np"
   ]
  },
  {
   "cell_type": "markdown",
   "id": "faa86dad-4688-437d-83d5-e161adf33cf3",
   "metadata": {},
   "source": [
    "First, load the full subset of QM9 available through our GitHub and create distinct subsets of 10000 for training and 2000 for testing. "
   ]
  },
  {
   "cell_type": "code",
   "execution_count": 2,
   "id": "89ccab3c-ff33-463b-bcae-b13e20f5f467",
   "metadata": {},
   "outputs": [],
   "source": [
    "QM9_data_raw = pd.read_json(\"../../datasets/qm9.json.gz\",lines=True)\n",
    "\n",
    "subset_QM9 = QM9_data_raw.sample(12000)"
   ]
  },
  {
   "cell_type": "markdown",
   "id": "41a298ea-a8aa-4309-bb0a-def3fe5add85",
   "metadata": {},
   "source": [
    "Then, compute features for each using Mordred."
   ]
  },
  {
   "cell_type": "code",
   "execution_count": 3,
   "id": "1b7b6fae-ff4d-40eb-9d2c-5d17ae73f81a",
   "metadata": {},
   "outputs": [],
   "source": [
    "mord_calc = Calculator(descriptors,ignore_3D=True)"
   ]
  },
  {
   "cell_type": "code",
   "execution_count": 4,
   "id": "0ff6636b-9334-4772-bf18-363ed63cb980",
   "metadata": {},
   "outputs": [
    {
     "name": "stderr",
     "output_type": "stream",
     "text": [
      "100%|██████████████████████████████████████████████████████████████████████████████████████████████████████████████████████████████████████████████████████████████████████████████████████████████████████████████████████████| 12000/12000 [02:30<00:00, 79.56it/s]\n"
     ]
    }
   ],
   "source": [
    "subset_QM9['mol'] = subset_QM9['smiles_0'].apply(Chem.MolFromSmiles)\n",
    "feats = mord_calc.pandas(subset_QM9['mol'])"
   ]
  },
  {
   "cell_type": "code",
   "execution_count": 5,
   "id": "422dfc5e-2b06-4f49-8a96-48d5a0317563",
   "metadata": {},
   "outputs": [],
   "source": [
    "#test_data['mol'] = test_data['smiles_0'].apply(Chem.MolFromSmiles)\n",
    "#test_feats = mord_calc.pandas(test_data['mol'])"
   ]
  },
  {
   "cell_type": "markdown",
   "id": "fd61ad30-9c01-454a-a612-6c3858a9e7fe",
   "metadata": {},
   "source": [
    "You will need to convert all data to a float (see DataFrame.astype) and drop missing values, but do not use any other dimensionality reduction."
   ]
  },
  {
   "cell_type": "code",
   "execution_count": 6,
   "id": "3b914201-646b-4546-b063-5a87e9fbb48f",
   "metadata": {},
   "outputs": [],
   "source": [
    "feats = feats.astype('float64')\n",
    "#test_feats = test_feats.astype('float64')"
   ]
  },
  {
   "cell_type": "code",
   "execution_count": 7,
   "id": "ef7dd1a3-621a-440e-8e2f-82bf7ea16a7c",
   "metadata": {},
   "outputs": [],
   "source": [
    "missing_vals = feats.isnull().any() #found 447"
   ]
  },
  {
   "cell_type": "code",
   "execution_count": 8,
   "id": "7f57e8fb-2f50-4c26-9cb3-f06acae0052a",
   "metadata": {},
   "outputs": [],
   "source": [
    "feats = feats.loc[:, ~missing_vals]\n",
    "#test_feats = test_feats.loc[:, ~missing_vals_test_feats]"
   ]
  },
  {
   "cell_type": "code",
   "execution_count": 9,
   "id": "de612b2c-93a5-4fd7-9c30-efe732749312",
   "metadata": {},
   "outputs": [
    {
     "data": {
      "text/plain": [
       "(12000, 1067)"
      ]
     },
     "execution_count": 9,
     "metadata": {},
     "output_type": "execute_result"
    }
   ],
   "source": [
    "feats.shape\n",
    "#test_feats.shape"
   ]
  },
  {
   "cell_type": "markdown",
   "id": "85f74fd8-861b-4cd0-82dc-2f5172396836",
   "metadata": {},
   "source": [
    " Once complete, make a test set of 2000 molecules (already done)\n"
   ]
  },
  {
   "cell_type": "markdown",
   "id": "e3240e50-d4f2-4fab-8205-32471e62030e",
   "metadata": {},
   "source": [
    "### 1. Train a LassoCV model using the features with and without reducing the dimensionality to 8 features using PCA. Plot the change in mean absolute error (MAE) with respect to training set sizes: 10, 100, 1000. How do the results compare? Why do some models continue to improve at large training set sizes while others do not?"
   ]
  },
  {
   "cell_type": "code",
   "execution_count": 10,
   "id": "417e0a28-254a-40ef-a19c-109b7af4bfbd",
   "metadata": {},
   "outputs": [],
   "source": [
    "train_data10,test_data10,train_feats10,test_feats10 = train_test_split(subset_QM9,feats,train_size=10)\n",
    "train_data100,test_data100,train_feats100,test_feats100 = train_test_split(subset_QM9,feats,train_size=100)\n",
    "train_data1000,test_data1000,train_feats1000,test_feats1000 = train_test_split(subset_QM9,feats,train_size=1000)\n",
    "train_dataFull,test_dataFull,train_featsFull,test_featsFull = train_test_split(subset_QM9,feats,train_size=10000)\n"
   ]
  },
  {
   "cell_type": "code",
   "execution_count": 11,
   "id": "f4dd9ce1-68b7-4232-97fe-716bd1435ed8",
   "metadata": {},
   "outputs": [],
   "source": [
    "model_PCA = Pipeline([\n",
    "    ('scale',StandardScaler()),\n",
    "    ('pca',PCA(n_components=8)),\n",
    "    ('lasso',LassoCV())\n",
    "]) #faster when computing lasso, but less accurate than just Lasso itself"
   ]
  },
  {
   "cell_type": "code",
   "execution_count": 12,
   "id": "d7150752-8d08-475c-8e26-202e062d0507",
   "metadata": {},
   "outputs": [],
   "source": [
    "lst_of_results = ['bandgap']"
   ]
  },
  {
   "cell_type": "code",
   "execution_count": 13,
   "id": "5f3227b4-29eb-41ba-a234-287f1f9cc219",
   "metadata": {},
   "outputs": [],
   "source": [
    "test_dataFull = test_dataFull.copy()\n",
    "test_dataFull['8-ncomp-pca-model-Full'] = model_PCA.fit(train_featsFull,train_dataFull['bandgap']).predict(test_featsFull)\n",
    "test_dataFull['8-ncomp-pca-model-10'] = model_PCA.fit(train_feats10,train_data10['bandgap']).predict(test_featsFull)\n",
    "test_dataFull['8-ncomp-pca-model-100'] = model_PCA.fit(train_feats100,train_data100['bandgap']).predict(test_featsFull)\n",
    "test_dataFull['8-ncomp-pca-model-1000'] = model_PCA.fit(train_feats1000,train_data1000['bandgap']).predict(test_featsFull)"
   ]
  },
  {
   "cell_type": "code",
   "execution_count": 14,
   "id": "6f7b83ad-fbe0-445f-b7c6-df4ad304c077",
   "metadata": {},
   "outputs": [],
   "source": [
    "lst_of_results.extend(['8-ncomp-pca-model-10','8-ncomp-pca-model-100','8-ncomp-pca-model-1000','8-ncomp-pca-model-Full'])"
   ]
  },
  {
   "cell_type": "code",
   "execution_count": 15,
   "id": "1f332a3b-e62b-456e-8f6a-a23fc2f21ea0",
   "metadata": {},
   "outputs": [],
   "source": [
    "model_nonPCA = Pipeline([\n",
    "    ('scale',StandardScaler()),\n",
    "    ('lasso',LassoCV(tol=0.01)) #note on tol, set to 0.01 else the convergance fails\n",
    "])"
   ]
  },
  {
   "cell_type": "code",
   "execution_count": 16,
   "id": "8f457e96-11d5-4bbd-bdb9-73ebc23b052a",
   "metadata": {},
   "outputs": [
    {
     "name": "stderr",
     "output_type": "stream",
     "text": [
      "/home/allen/software/anaconda3/envs/applied-ai/lib/python3.7/site-packages/sklearn/linear_model/_coordinate_descent.py:531: ConvergenceWarning: Objective did not converge. You might want to increase the number of iterations. Duality gap: 0.32270267142092, tolerance: 0.22219841520351\n",
      "  positive)\n",
      "/home/allen/software/anaconda3/envs/applied-ai/lib/python3.7/site-packages/sklearn/linear_model/_coordinate_descent.py:531: ConvergenceWarning: Objective did not converge. You might want to increase the number of iterations. Duality gap: 0.0286017726444793, tolerance: 0.0229706199324\n",
      "  positive)\n"
     ]
    }
   ],
   "source": [
    "test_dataFull['no-pca'] = model_nonPCA.fit(train_featsFull,train_dataFull['bandgap']).predict(test_featsFull)\n",
    "test_dataFull['no-pca-10'] = model_nonPCA.fit(train_feats10,train_data10['bandgap']).predict(test_featsFull)\n",
    "test_dataFull['no-pca-100'] = model_nonPCA.fit(train_feats100,train_data100['bandgap']).predict(test_featsFull)\n",
    "test_dataFull['no-pca-1000'] = model_nonPCA.fit(train_feats1000,train_data1000['bandgap']).predict(test_featsFull)"
   ]
  },
  {
   "cell_type": "code",
   "execution_count": 17,
   "id": "44f53fa0-7df9-44bd-a328-f6b077b125fe",
   "metadata": {},
   "outputs": [],
   "source": [
    "lst_of_results.extend(['no-pca-10','no-pca-100','no-pca-1000','no-pca'])"
   ]
  },
  {
   "cell_type": "markdown",
   "id": "08aa8f0b-9082-4e85-9d36-53095913b935",
   "metadata": {},
   "source": [
    "Train a RandomForest model using the default settings:"
   ]
  },
  {
   "cell_type": "code",
   "execution_count": 18,
   "id": "6ae3a1f4-9532-4465-8f26-2ebe5fd26e8b",
   "metadata": {},
   "outputs": [],
   "source": [
    "model_rf = Pipeline([\n",
    "    ('scale',StandardScaler()),\n",
    "    ('rf',rf())\n",
    "])"
   ]
  },
  {
   "cell_type": "code",
   "execution_count": 19,
   "id": "6768292e-1eea-40d0-8532-b9d81a4d4960",
   "metadata": {},
   "outputs": [],
   "source": [
    "test_dataFull['rf'] = model_rf.fit(train_featsFull,train_dataFull['bandgap']).predict(test_featsFull)\n",
    "test_dataFull['rf10'] = model_rf.fit(train_feats10,train_data10['bandgap']).predict(test_featsFull)\n",
    "test_dataFull['rf100'] = model_rf.fit(train_feats100,train_data100['bandgap']).predict(test_featsFull)\n",
    "test_dataFull['rf1000'] = model_rf.fit(train_feats1000,train_data1000['bandgap']).predict(test_featsFull)\n",
    "#Note: this function takes around 5~8 mins"
   ]
  },
  {
   "cell_type": "code",
   "execution_count": 20,
   "id": "fbb08d35-31d8-4996-8004-9eae61f985eb",
   "metadata": {},
   "outputs": [],
   "source": [
    "lst_of_results.extend(['rf10','rf100','rf1000','rf'])"
   ]
  },
  {
   "cell_type": "markdown",
   "id": "aa1a24b7-a748-4e97-a0d2-de2c8e9b9a51",
   "metadata": {},
   "source": [
    "Plot the change in mean absolute error (MAE) with respect to training set sizes: 10, 100, 1000. How do the results compare?"
   ]
  },
  {
   "cell_type": "code",
   "execution_count": 21,
   "id": "df9e103c-065e-43c4-b890-ed5fb1b52735",
   "metadata": {},
   "outputs": [],
   "source": [
    "MAE_lst = []\n",
    "\n",
    "for c in lst_of_results:\n",
    "    MAE_lst.append(mean_absolute_error(test_dataFull['bandgap'],test_dataFull[c]))"
   ]
  },
  {
   "cell_type": "code",
   "execution_count": 22,
   "id": "5ef916f3-9590-49b4-ac66-b356756d08da",
   "metadata": {},
   "outputs": [
    {
     "data": {
      "text/plain": [
       "([0, 1, 2, 3],\n",
       " [Text(0, 0, ''), Text(0, 0, ''), Text(0, 0, ''), Text(0, 0, '')])"
      ]
     },
     "execution_count": 22,
     "metadata": {},
     "output_type": "execute_result"
    },
    {
     "data": {
      "image/png": "[encoded data removed]",
      "text/plain": [
       "<Figure size 432x288 with 1 Axes>"
      ]
     },
     "metadata": {
      "needs_background": "light"
     },
     "output_type": "display_data"
    }
   ],
   "source": [
    "fig, ax = plt.subplots()\n",
    "\n",
    "ax.plot(['10','100','1000','10000'],MAE_lst[1:5],'o-',label = 'PCA-Lasso')\n",
    "ax.plot(['10','100','1000','10000'],MAE_lst[5:9],'o-',label = 'Lasso')\n",
    "ax.plot(['10','100','1000','10000'],MAE_lst[9:13],'o-',label = 'Random Forest')\n",
    "ax.legend()\n",
    "\n",
    "ax.set_xlabel(\"Model (Size of Training)\")\n",
    "ax.set_ylabel(\"MAE\")\n",
    "ax.set_title(\"MAE of different models at different training sizes\")\n",
    "plt.xticks(rotation=25)"
   ]
  },
  {
   "cell_type": "markdown",
   "id": "f3b912ea-0e13-4bbe-8c13-cffcb48b9ffc",
   "metadata": {},
   "source": [
    "Notice that Random Forest out performs all other models at high training sizes. Furthermore the PCA-Lasso is the worst amongst the different models that we have fitted at higher training sizes. Lasso models do not improve that drasticaly relative to Random Forest models."
   ]
  },
  {
   "cell_type": "markdown",
   "id": "2ec24225-2f7c-4fe2-9825-44e24c330847",
   "metadata": {},
   "source": [
    "### 2. Rank the top features for LASSO (NO PCA) (using coefficients) and random forest (using the assigned feature scores) (Hint: np.argsort).\n",
    "\n",
    "#### i) Compare the top 10 features with lasso and random forest (Hint: Python set logic). Are any the same? Why is this expected?"
   ]
  },
  {
   "cell_type": "code",
   "execution_count": 23,
   "id": "9a146987-d68a-4063-be93-9a0c6167826c",
   "metadata": {},
   "outputs": [],
   "source": [
    "lasso_coefs = model_nonPCA.named_steps['lasso'].coef_"
   ]
  },
  {
   "cell_type": "code",
   "execution_count": 24,
   "id": "764e3a6f-e6a5-4a40-a605-f8d483754c21",
   "metadata": {},
   "outputs": [
    {
     "data": {
      "text/plain": [
       "array([-0.        , -0.00195457,  0.00085893, ..., -0.        ,\n",
       "       -0.        ,  0.        ])"
      ]
     },
     "execution_count": 24,
     "metadata": {},
     "output_type": "execute_result"
    }
   ],
   "source": [
    "lasso_coefs"
   ]
  },
  {
   "cell_type": "code",
   "execution_count": 25,
   "id": "89378f34-4f5c-4929-8521-3cd989efba40",
   "metadata": {},
   "outputs": [],
   "source": [
    "rf_features = model_rf.named_steps['rf'].feature_importances_"
   ]
  },
  {
   "cell_type": "code",
   "execution_count": 26,
   "id": "5a09d892-2a0f-482b-9da7-c2d209eb8507",
   "metadata": {},
   "outputs": [],
   "source": [
    "lasso_top10 = np.argsort(lasso_coefs)[-10:]\n",
    "rf_top10 = np.argsort(rf_features)[-10:]"
   ]
  },
  {
   "cell_type": "markdown",
   "id": "6471b008-b740-4313-9660-c45266b1410e",
   "metadata": {},
   "source": [
    "Notice that the most imortant features selected by the two models are different. This is actually to be expected, as Lasso and RF have different ways in which features are selected. In particular, lasso selects for features linearly (as implied by a linear regression format) while RF does not pose linearity between variables as a constraint for searching, allowing for more possibilities when searching for different variables to (or to not) consider."
   ]
  },
  {
   "cell_type": "markdown",
   "id": "456f70a7-4b30-4bfe-bfa7-23a163f99e90",
   "metadata": {},
   "source": [
    "#### ii) Assess the correlation between top 10 features for LASSO, and then (separately) between top 10 features from random forest. What does this imply about how to interpret the most important features?"
   ]
  },
  {
   "cell_type": "code",
   "execution_count": 27,
   "id": "631c62d4-f94d-4f43-8f62-439f0a44304a",
   "metadata": {},
   "outputs": [],
   "source": [
    "crosscorr_Lasso = np.corrcoef(feats.iloc[:,lasso_top10].T)\n",
    "crosscorr_rf = np.corrcoef(feats.iloc[:,rf_top10].T)"
   ]
  },
  {
   "cell_type": "code",
   "execution_count": 28,
   "id": "a86aada5-d74b-4c3d-9a46-08d227790f05",
   "metadata": {},
   "outputs": [
    {
     "data": {
      "image/png": "[encoded data removed]",
      "text/plain": [
       "<Figure size 432x288 with 2 Axes>"
      ]
     },
     "metadata": {
      "needs_background": "light"
     },
     "output_type": "display_data"
    }
   ],
   "source": [
    "fig, ax = plt.subplots()\n",
    "\n",
    "cax = ax.matshow(crosscorr_Lasso, interpolation='nearest')\n",
    "fig.colorbar(cax)\n",
    "ax.set_title(\"Crosscorrelations of Lasso Model\")\n",
    "\n",
    "fig.tight_layout()"
   ]
  },
  {
   "cell_type": "code",
   "execution_count": 29,
   "id": "57cd4a1a-4e6a-461e-8b49-2968037a936a",
   "metadata": {},
   "outputs": [
    {
     "data": {
      "image/png": "[encoded data removed]",
      "text/plain": [
       "<Figure size 432x288 with 2 Axes>"
      ]
     },
     "metadata": {
      "needs_background": "light"
     },
     "output_type": "display_data"
    }
   ],
   "source": [
    "fig, ax = plt.subplots()\n",
    "\n",
    "cax = ax.matshow(crosscorr_rf, interpolation='nearest')\n",
    "fig.colorbar(cax)\n",
    "ax.set_title(\"Crosscorrelations of RF Model\")\n",
    "\n",
    "fig.tight_layout()"
   ]
  },
  {
   "cell_type": "markdown",
   "id": "99dda54b-d80d-49c4-8d33-d0eda32c9d82",
   "metadata": {},
   "source": [
    "This means that we cannot necessarily use the models that we have designed here as any sort of causal descriptor or interpret it as something that we can use to replicate experiments. Rather, we should only use these results as predictive measurements than causal descriptors of results."
   ]
  },
  {
   "cell_type": "markdown",
   "id": "27c2f3c0-3b5e-4393-9f69-d509bd66efdd",
   "metadata": {},
   "source": [
    "#### iii) Re-fit the model another time for one of the models, on a newly sampled set of $10^4$ data points. Do the results change between runs? "
   ]
  },
  {
   "cell_type": "markdown",
   "id": "dec8cb04-5484-447c-8683-37ed3e4303d5",
   "metadata": {},
   "source": [
    "I will fit the LASSO regression again using a new sample of 10000 data points. The results are the following:"
   ]
  },
  {
   "cell_type": "code",
   "execution_count": 30,
   "id": "4926f862-889a-4836-9e22-1f727aa6aa18",
   "metadata": {},
   "outputs": [
    {
     "name": "stderr",
     "output_type": "stream",
     "text": [
      "/home/allen/software/anaconda3/envs/applied-ai/lib/python3.7/site-packages/ipykernel_launcher.py:3: SettingWithCopyWarning: \n",
      "A value is trying to be set on a copy of a slice from a DataFrame.\n",
      "Try using .loc[row_indexer,col_indexer] = value instead\n",
      "\n",
      "See the caveats in the documentation: https://pandas.pydata.org/pandas-docs/stable/user_guide/indexing.html#returning-a-view-versus-a-copy\n",
      "  This is separate from the ipykernel package so we can avoid doing imports until\n"
     ]
    }
   ],
   "source": [
    "train_data_re,test_data_re,train_feats_re,test_feats_re = train_test_split(subset_QM9,feats,train_size=10000)\n",
    "\n",
    "test_data_re['Lasso'] = model_nonPCA.fit(train_feats_re,train_data_re['bandgap']).predict(test_feats_re)"
   ]
  },
  {
   "cell_type": "code",
   "execution_count": 31,
   "id": "a2ba7cdb-c2ea-4eaa-9c2d-50ca76e04589",
   "metadata": {},
   "outputs": [],
   "source": [
    "lasso_coefs_re = model_nonPCA.named_steps['lasso'].coef_\n",
    "\n",
    "lasso_top10_re = np.argsort(lasso_coefs_re)[:10]"
   ]
  },
  {
   "cell_type": "code",
   "execution_count": 33,
   "id": "acde11a1-2465-4dd2-a72c-6a7bc8a99bf4",
   "metadata": {},
   "outputs": [
    {
     "data": {
      "text/plain": [
       "False"
      ]
     },
     "execution_count": 33,
     "metadata": {},
     "output_type": "execute_result"
    }
   ],
   "source": [
    "set(lasso_top10_re) is set(lasso_top10)"
   ]
  },
  {
   "cell_type": "markdown",
   "id": "672af07f-8082-423e-b63e-1e8f0d8ba13b",
   "metadata": {},
   "source": [
    "Notice that the two models, despite having the same specification, does not actually get the same top features. This implies that the features from a machine learning model cannot necessarily be interpreted in a causal framework. Even if the end predicts do not vary siginificantly"
   ]
  },
  {
   "cell_type": "markdown",
   "id": "3b9d24c9-03e1-45de-961a-5c490f204280",
   "metadata": {},
   "source": [
    "### 3) Discuss the relative advantages of RandomForest versus Linear Regression versus Linear Regression with PCA."
   ]
  },
  {
   "cell_type": "markdown",
   "id": "cdbae304-6f84-43b3-a746-f497d536b9b5",
   "metadata": {},
   "source": [
    "1. Linear Regression w/ PCA: The model was able to be constructed very quickly after PCA is completed. However, the PCA will create new variables that don't necessarily have meaning (even though we are not really concerned about them anyways). Furthermore, the model does not improve with more data, and is overall (level-wise) worse in MAE than the LASSO by itself.\n",
    "\n",
    "2. Linear Regression: The model took longer than its with-PCA counterpart. However, its MAE was globally lower than the model which included PCA. It can also be argued that it improved better relative to the with-PCA model, but not as strong as RF.\n",
    "\n",
    "3. Random Forest (RF): This model grew in accuracy the most as we move from smaller training sets to larger training sets. However, this model took longer and was arguably more computantionally intensive (judging by Task Manager statistics), though not too intensive."
   ]
  },
  {
   "cell_type": "markdown",
   "id": "f3cd3aba-3bfe-46dc-b06e-ce9d372b8580",
   "metadata": {},
   "source": [
    "## Molecular Fingerprints"
   ]
  },
  {
   "cell_type": "markdown",
   "id": "2ed530cf-5bc4-4b5e-b129-a93144c9afe4",
   "metadata": {},
   "source": [
    "### 1. Create a training set of 1000 entries. Train a k-Nearest Neighbors (kNN) regressor model using a Jaccard distance metric based on 128-length Morgan fingerprint with a radius of 3. Plot how the performance on the model (on a test set of 2000 entries) changes as you increase the number of neighbors used in kNN from 1 to $2^7$ by a factor of 2 each time. Explain why the MAE improves when increasing from 1 and then worsens as you increase past $2^4$."
   ]
  },
  {
   "cell_type": "markdown",
   "id": "ea2bb3f1-76e9-4f79-9732-aba450e51347",
   "metadata": {},
   "source": [
    "First, we need to creat a function which utilizes the BaseEstimator from scikit and use it to transform SMILEs strings into fingerprint vectors. Adapting from the applied-ai-for-materials notebook:"
   ]
  },
  {
   "cell_type": "code",
   "execution_count": 34,
   "id": "0d7d77f4-8234-4820-9b5e-159add6cb371",
   "metadata": {},
   "outputs": [],
   "source": [
    "def compute_morgan_fingerprints(smiles: str, fingerprint_length: int, fingerprint_radius: int):\n",
    "    \"\"\"Get Morgan Fingerprint of a specific SMILES string.\n",
    "    Adapted from: <https://github.com/google-research/google-research/blob/\n",
    "    dfac4178ccf521e8d6eae45f7b0a33a6a5b691ee/mol_dqn/chemgraph/dqn/deep_q_networks.py#L750>\n",
    "    Args:\n",
    "      graph (str): The molecule as a SMILES string\n",
    "      fingerprint_length (int): Bit-length of fingerprint\n",
    "      fingerprint_radius (int): Radius used to compute fingerprint\n",
    "    Returns:\n",
    "      np.array. shape = [hparams, fingerprint_length]. The Morgan fingerprint.\n",
    "    \"\"\"\n",
    "    # Parse the molecule\n",
    "    mol = Chem.MolFromSmiles(smiles)\n",
    "\n",
    "    # Compute the fingerprint\n",
    "    fingerprint = AllChem.GetMorganFingerprintAsBitVect(\n",
    "        mol, fingerprint_radius, fingerprint_length)\n",
    "    arr = np.zeros((1,), dtype=np.bool)\n",
    "\n",
    "    # ConvertToNumpyArray takes ~ 0.19 ms, while\n",
    "    # np.asarray takes ~ 4.69 ms\n",
    "    DataStructs.ConvertToNumpyArray(fingerprint, arr)\n",
    "    return arr"
   ]
  },
  {
   "cell_type": "code",
   "execution_count": 35,
   "id": "dd22eb02-076c-4a07-8211-fc2deb458f2d",
   "metadata": {},
   "outputs": [],
   "source": [
    "class MorganFingerprintTransform(BaseEstimator, TransformerMixin):\n",
    "    \"\"\"\n",
    "    Class which converts SMILES strings into fingerprint vectors\n",
    "    \"\"\"\n",
    "    \n",
    "    def __init__(self, length: int=128, radius: int=3):\n",
    "        self.length=length\n",
    "        self.radius=radius\n",
    "        \n",
    "    def fit(self, X, y=None):\n",
    "        return self\n",
    "    \n",
    "    def transform(self, X, y=None):\n",
    "        \"\"\"\n",
    "        Compute the fingerprint using the compute_morgan_fingerprints function\n",
    "        \n",
    "        inpt:\n",
    "            X: (list) list of SMILES strings\n",
    "        otpt:\n",
    "            otpt: (np.array) Array of fingerprints for a given molecule\n",
    "        \"\"\"\n",
    "        fing = [compute_morgan_fingerprints(mol,self.length,self.radius) for mol in X]\n",
    "        otpt = np.vstack(fing)\n",
    "        return otpt\n"
   ]
  },
  {
   "cell_type": "code",
   "execution_count": 36,
   "id": "3170a51d-ba38-4e3c-b4e7-ad2bd656c681",
   "metadata": {},
   "outputs": [],
   "source": [
    "morg = MorganFingerprintTransform()"
   ]
  },
  {
   "cell_type": "markdown",
   "id": "97b3687d-80bd-4559-8f65-cc6d812a3700",
   "metadata": {},
   "source": [
    "Now that we have the code working for transforming fingerprints, I will now construct the KNN regressor. First, I will have to make a train-test-split"
   ]
  },
  {
   "cell_type": "code",
   "execution_count": 37,
   "id": "8ecebfa5-fa87-40fa-b5d5-ad5b0e28557c",
   "metadata": {},
   "outputs": [],
   "source": [
    "fingerprint_data = QM9_data_raw.sample(3000)"
   ]
  },
  {
   "cell_type": "code",
   "execution_count": 38,
   "id": "db9737cb-e064-4544-9dc7-94e81f4d602e",
   "metadata": {},
   "outputs": [],
   "source": [
    "train_data, test_data = train_test_split(fingerprint_data,train_size=1000)"
   ]
  },
  {
   "cell_type": "markdown",
   "id": "ad65474e-19c6-4551-a8a4-1eb193e34f59",
   "metadata": {},
   "source": [
    "Now setting up the KNN model"
   ]
  },
  {
   "cell_type": "code",
   "execution_count": 39,
   "id": "701acd2b-e517-4e23-8f42-e9e605cf2df1",
   "metadata": {},
   "outputs": [],
   "source": [
    "model_knn = Pipeline([\n",
    "    ('fingerprint', MorganFingerprintTransform()),\n",
    "    ('knn', KNeighborsRegressor(n_neighbors=1, metric='jaccard'))\n",
    "])"
   ]
  },
  {
   "cell_type": "code",
   "execution_count": 40,
   "id": "affcb8c2-b811-4ed5-a63e-d74094fe04da",
   "metadata": {},
   "outputs": [],
   "source": [
    "res = []\n",
    "\n",
    "for n_neigh_exp in [0,1,2,3,4,5,6,7]:\n",
    "\n",
    "    model_knn.set_params(knn__n_neighbors=2**n_neigh_exp)\n",
    "    y_pred = model_knn.fit(train_data['smiles_0'],train_data['bandgap']).predict(test_data['smiles_0'])\n",
    "    \n",
    "    res.append({\n",
    "        'knn_neighbors': f\"2^{n_neigh_exp}\",\n",
    "        'mae': mean_absolute_error(test_data['bandgap'],y_pred)\n",
    "    })\n",
    "\n",
    "res_df = pd.DataFrame(res)"
   ]
  },
  {
   "cell_type": "markdown",
   "id": "611c070d-968c-4e05-8418-f71ea1dab5c2",
   "metadata": {},
   "source": [
    "Now plotting the results:"
   ]
  },
  {
   "cell_type": "code",
   "execution_count": 41,
   "id": "b5f608c4-74ee-42ff-895a-6585956e74c4",
   "metadata": {},
   "outputs": [
    {
     "data": {
      "text/plain": [
       "Text(0.5, 1.0, 'MAE as Neighborhood Size Increases')"
      ]
     },
     "execution_count": 41,
     "metadata": {},
     "output_type": "execute_result"
    },
    {
     "data": {
      "image/png": "[encoded data removed]",
      "text/plain": [
       "<Figure size 432x288 with 1 Axes>"
      ]
     },
     "metadata": {
      "needs_background": "light"
     },
     "output_type": "display_data"
    }
   ],
   "source": [
    "fig, ax = plt.subplots()\n",
    "\n",
    "ax.plot(res_df['knn_neighbors'],res_df['mae'],'--o')\n",
    "\n",
    "ax.set_xlabel(\"Neighborhood Size\")\n",
    "ax.set_ylabel(\"MAE\")\n",
    "ax.set_title(\"MAE as Neighborhood Size Increases\")"
   ]
  },
  {
   "cell_type": "markdown",
   "id": "6d3c668c-1064-439c-90b8-a84c4dd0966f",
   "metadata": {},
   "source": [
    "Notice then, as neighborhood size increases, it does not necessarily lead to better results. This is intuitive because KNN gathers points with specific traits/fingerprints in order to make predictions using their average traits. However, if the neighborhood is too large, it could be the case where it fails to discriminate between molecules of different characteristics as it is clustered into a single neighborhood."
   ]
  },
  {
   "cell_type": "markdown",
   "id": "055080cd-48e2-4e07-8015-1fd09330eabd",
   "metadata": {},
   "source": [
    "### 2. Add a step in the model Pipeline from Step 1 that uses Recursive Feature Elimination with a Random Forest model to reduce the number of features to 32 in 4 steps. Compare the MAE versus number of neighbors to kNN without feature selection."
   ]
  },
  {
   "cell_type": "code",
   "execution_count": 42,
   "id": "41edc02a-8936-4724-831e-429863123e77",
   "metadata": {},
   "outputs": [],
   "source": [
    "model_knn_RFE = Pipeline([\n",
    "    ('fingerprint', MorganFingerprintTransform()),\n",
    "    ('RFE', RFE(rf(),n_features_to_select=32,step=4)),\n",
    "    ('knn', KNeighborsRegressor(n_neighbors=1, metric='jaccard'))])"
   ]
  },
  {
   "cell_type": "markdown",
   "id": "75302f39-676e-44cd-b68a-6401aa94b5aa",
   "metadata": {},
   "source": [
    "I have now built a model with the RFE step using a RandomForrestClassifier. Running the same model as before:"
   ]
  },
  {
   "cell_type": "code",
   "execution_count": 43,
   "id": "12dcf274-0fbd-4c5e-862a-18c05727829a",
   "metadata": {},
   "outputs": [],
   "source": [
    "res_RFE = []\n",
    "\n",
    "for n_neigh_exp in [0,1,2,3,4,5,6,7]:\n",
    "\n",
    "    model_knn_RFE.set_params(knn__n_neighbors=2**n_neigh_exp)\n",
    "    y_pred = model_knn_RFE.fit(train_data['smiles_0'],train_data['bandgap']).predict(test_data['smiles_0'])\n",
    "    \n",
    "    res_RFE.append({\n",
    "        'knn_neighbors': f\"2^{n_neigh_exp}\",\n",
    "        'mae': mean_absolute_error(test_data['bandgap'],y_pred)\n",
    "    })\n",
    "\n",
    "res_RFE_df = pd.DataFrame(res_RFE)"
   ]
  },
  {
   "cell_type": "code",
   "execution_count": 44,
   "id": "66638d69-4cc8-464d-a00f-74d841c5555a",
   "metadata": {},
   "outputs": [
    {
     "data": {
      "text/plain": [
       "Text(0.5, 1.0, 'MAE as Neighborhood Size Increases')"
      ]
     },
     "execution_count": 44,
     "metadata": {},
     "output_type": "execute_result"
    },
    {
     "data": {
      "image/png": "[encoded data removed]",
      "text/plain": [
       "<Figure size 432x288 with 1 Axes>"
      ]
     },
     "metadata": {
      "needs_background": "light"
     },
     "output_type": "display_data"
    }
   ],
   "source": [
    "fig, ax = plt.subplots()\n",
    "\n",
    "ax.plot(res_df['knn_neighbors'],res_RFE_df['mae'],'--o',label=\"with RFE\")\n",
    "ax.plot(res_df['knn_neighbors'],res_df['mae'],'--o',label=\"without RFE\")\n",
    "\n",
    "ax.legend()\n",
    "\n",
    "ax.set_xlabel(\"Neighborhood Size\")\n",
    "ax.set_ylabel(\"MAE\")\n",
    "ax.set_title(\"MAE as Neighborhood Size Increases\")"
   ]
  },
  {
   "cell_type": "markdown",
   "id": "c25594aa-d33f-49bf-b36d-e20a3a4cceee",
   "metadata": {},
   "source": [
    "### 3. Why would the model with the feature selection perform better? In general terms, explain the disadvantage of using a general-purpose distnace metrics such as fingerprints and how must one must account for that"
   ]
  },
  {
   "cell_type": "markdown",
   "id": "2e5d1d01-11b3-46b9-903a-a0b244bc160b",
   "metadata": {},
   "source": [
    "There are a few reasons why feature selection will out-perform a model without feature selection. In particular, KNN uses small neighborhoods within the fingerprint-space to classify and make prediction base on the average characteristics of that neighborhood. However, if there are redundant attributes in the dataset, it could be the case that these seemingly redundant attributes will skew the selection process by assigning neighborhoods that are inaccurate \n",
    "\n",
    "My interpretation is the following: say *all* points in neighborhood X (and ONLY neigborhood X) has feature A. At the same time, 99% of points those points within X both have feature A and B. However, there is a random distribution of points outside this neighborhood that also has feature B. \n",
    "\n",
    "Now let's also assume that in 'reality', neighborhood X is already well-defined (99% of all points with features A and B, and 100% of points with A). However, A general-purpose KNN model using fingerprints might pick up on the small variations within feature B and mis-estimate neighborhood X-prime to include points that lie outside the 'true' neighborhood X. Without feature selection, one can see how this small feature B could change the assignment of neighborhood X."
   ]
  }
 ],
 "metadata": {
  "kernelspec": {
   "display_name": "Applied AI",
   "language": "python",
   "name": "applied-ai"
  },
  "language_info": {
   "codemirror_mode": {
    "name": "ipython",
    "version": 3
   },
   "file_extension": ".py",
   "mimetype": "text/x-python",
   "name": "python",
   "nbconvert_exporter": "python",
   "pygments_lexer": "ipython3",
   "version": "3.7.12"
  }
 },
 "nbformat": 4,
 "nbformat_minor": 5
}
