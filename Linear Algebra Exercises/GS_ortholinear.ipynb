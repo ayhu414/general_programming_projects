{
 "cells": [
  {
   "cell_type": "markdown",
   "metadata": {},
   "source": [
    "Problem 001: Gram–Schmidt \n",
    "----------------------------------"
   ]
  },
  {
   "cell_type": "markdown",
   "metadata": {},
   "source": [
    "1. Generate a matrix, called $v$, with $M=10$ columns and $N=1000$ rows. The $i$-th column of the  $v$ matrix, called $v_i$, is a vector formed by complex numbers that can be expressed as $e^{i\\theta_n}$ ($\\forall \\; n = 0,1,2,\\dots,N-1$) where $\\theta_n$ is a random angle, i.e., a number sampled randomly from the uniform distribution over $[0,2\\pi)$.\n",
    "\n",
    "2. Define a function that takes two matrices, $a$ and $b$, asserts that they have the same shape, and then returns the overlap, $O$, obtained as the following matrix-matrix multiplication: $O(a,b)=a^H b$, where $a^H$ is the transpose and complex conjugate of $a$. *Hint: use  numpy.conj for complex conjugate*\n",
    "\n",
    "3. Compute the $M\\times M$ overlap matrix $V = O(v,v)$. Print the matrix elements of $V$.\n",
    "\n",
    "4. Using the Gram-Schmidt orthonormalization procedure, generate the vectors $q_i$ from $v_i$ so that the vectors $q_i$ form a orthonormal basis set for the vector space spanned by the vectors $v_i$. Implement the following pseudo-code to obtain the $q_i$ vectors:\n",
    "\n",
    "$ x_i =  v_i  \\;\\;\\; \\forall i = 0,1,\\dots, M-1$\n",
    "\n",
    "$\\text{for} \\;\\; j=0,1,\\dots,M-1$\n",
    "\n",
    "$\\;\\;\\;\\;\\;\\; q_j =\\frac{ x_j}{O(x_j,x_j)}$\n",
    "   \n",
    "$\\;\\;\\;\\;\\;\\;\\text{for} \\;\\; r=j+1,j+2,\\dots,M-1$\n",
    "       \n",
    "$\\;\\;\\;\\;\\;\\;\\;\\;\\;\\;\\;\\; x_r= x_r− q_j  O(q_j,x_r) $\n",
    "       \n",
    "$\\;\\;\\;\\;\\;\\;\\text{endfor}$\n",
    "   \n",
    "$\\text{endfor}$\n",
    "\n",
    "Note that, similarly to the case of $v_i$, the $x_i$ and $q_i$ vectors can be conveniently stored as the columns of matrices. Note also that the $x_i$ vectors are temporally used, and that the output of the pseudo-code are the $q_i$ vectors.\n",
    "\n",
    "5. Compute the $M\\times M$ overlap matrix $Q = O(q,q)$. Print the matrix elements of $Q$. Verify that $Q$ is the identity matrix.\n"
   ]
  },
  {
   "cell_type": "code",
   "execution_count": null,
   "metadata": {},
   "outputs": [],
   "source": [
    "# Develop the assignment here"
   ]
  },
  {
   "cell_type": "code",
   "execution_count": 3,
   "metadata": {},
   "outputs": [],
   "source": [
    "import numpy as np"
   ]
  },
  {
   "cell_type": "code",
   "execution_count": 25,
   "metadata": {},
   "outputs": [],
   "source": [
    "def gen_matrix(m=10,n=1000):\n",
    "    \"\"\"\n",
    "    Input:  m: (int) number of columns\n",
    "            n: (int) number of rows\n",
    "    Output: res: (ndarray) 2d array of complex numbers\n",
    "\n",
    "    Takes two integer numbers which define the matrix shape\n",
    "    Creates a matrix using random draws from a uniform distribution of (0,2pi]\n",
    "    as exponents in the expression: e^(ixn), where xn is the random draw\n",
    "    \"\"\"\n",
    "\n",
    "    pwrs = np.random.uniform(low=0.0,high=2*np.pi,size=(n,m))*1j\n",
    "    base = np.full((n,m),np.e)\n",
    "    res = np.power(base,pwrs)\n",
    "\n",
    "    return res"
   ]
  },
  {
   "cell_type": "code",
   "execution_count": 26,
   "metadata": {},
   "outputs": [],
   "source": [
    "v = gen_matrix() #generate matrix v"
   ]
  },
  {
   "cell_type": "code",
   "execution_count": 27,
   "metadata": {},
   "outputs": [],
   "source": [
    "def get_overlap(mtx1,mtx2):\n",
    "    \"\"\"\n",
    "    Input:  mtx1: (ndarray) 2d array of complex numbers\n",
    "            mtx2: (ndarray) 2d array of complex numbers\n",
    "    Output: res: (ndarray) 2d array of complex numbers\n",
    "\n",
    "    Asserting there are two identical arrays shape-wise,\n",
    "    conduct matrix multiplication \n",
    "    between the transpose conjugate of mtx1 with mtx2\n",
    "    \"\"\"\n",
    "    assert (str(type(mtx1)), str(type(mtx2)), mtx1.shape == mtx2.shape) == (\"<class 'numpy.ndarray'>\", \"<class 'numpy.ndarray'>\", True)\n",
    "    mtx1t = np.transpose(mtx1)\n",
    "    mtx1H = np.conj(mtx1t)\n",
    "    #print(mtx1H)\n",
    "    #print(\"==========\")\n",
    "    res = mtx1H@mtx2\n",
    "    return res"
   ]
  },
  {
   "cell_type": "code",
   "execution_count": 28,
   "metadata": {},
   "outputs": [
    {
     "output_type": "stream",
     "name": "stdout",
     "text": [
      "[[1000.         +0.j           -2.54788434 -2.83920811j\n   -32.65923182+18.21391776j  -11.28357197-20.86637534j\n    -5.21234813 -7.37841647j  -26.75591852-20.97755938j\n   -19.35901162+33.44133566j   -3.84016398+19.52224896j\n   -29.93966498+20.34149204j  -11.53045473+19.59084093j]\n [  -2.54788434 +2.83920811j 1000.         +0.j\n    28.7660937  -5.59038378j   -1.26085095-29.32583295j\n    15.22857533-16.62204614j   15.01182105+21.4450693j\n   -15.89976079 +4.1027662j    -4.8057788 +36.04197253j\n   -20.55917037 -3.45516497j   40.99773342 -6.23811328j]\n [ -32.65923182-18.21391776j   28.7660937  +5.59038378j\n  1000.         +0.j          -17.41500788-15.0856798j\n    25.27905375+11.50496074j   37.67292866+15.61823753j\n     3.52687149 -9.51058769j   15.10744091 +5.52548639j\n    20.22209423+11.42717443j   15.06190796 +6.50534082j]\n [ -11.28357197+20.86637534j   -1.26085095+29.32583295j\n   -17.41500788+15.0856798j  1000.         +0.j\n   -14.29858501 -8.3777025j   -36.96553565-21.16551701j\n   -14.06902302 -7.12752274j   25.12066455-33.88194489j\n   -15.16194608+22.896129j    -10.00113581-14.88074722j]\n [  -5.21234813 +7.37841647j   15.22857533+16.62204614j\n    25.27905375-11.50496074j  -14.29858501 +8.3777025j\n  1000.         +0.j           14.19027937 -7.43526123j\n   -11.06905796+17.81163624j  -17.11868098-27.61645002j\n   -15.81123795 +7.05408443j   -5.04186328-12.64446829j]\n [ -26.75591852+20.97755938j   15.01182105-21.4450693j\n    37.67292866-15.61823753j  -36.96553565+21.16551701j\n    14.19027937 +7.43526123j 1000.         +0.j\n   -19.8652871 -14.49654818j    4.21646682-42.92611409j\n    -1.15973068+46.53941348j    4.04697215 +7.57465648j]\n [ -19.35901162-33.44133566j  -15.89976079 -4.1027662j\n     3.52687149 +9.51058769j  -14.06902302 +7.12752274j\n   -11.06905796-17.81163624j  -19.8652871 +14.49654818j\n  1000.         +0.j           33.70599116+21.51094324j\n   -17.63445998 +1.59210777j  -27.91405718+17.28217494j]\n [  -3.84016398-19.52224896j   -4.8057788 -36.04197253j\n    15.10744091 -5.52548639j   25.12066455+33.88194489j\n   -17.11868098+27.61645002j    4.21646682+42.92611409j\n    33.70599116-21.51094324j 1000.         +0.j\n    -4.50416211 -0.93794205j    4.44295065 +6.7371922j ]\n [ -29.93966498-20.34149204j  -20.55917037 +3.45516497j\n    20.22209423-11.42717443j  -15.16194608-22.896129j\n   -15.81123795 -7.05408443j   -1.15973068-46.53941348j\n   -17.63445998 -1.59210777j   -4.50416211 +0.93794205j\n  1000.         +0.j          -17.04612809 -1.2324743j ]\n [ -11.53045473-19.59084093j   40.99773342 +6.23811328j\n    15.06190796 -6.50534082j  -10.00113581+14.88074722j\n    -5.04186328+12.64446829j    4.04697215 -7.57465648j\n   -27.91405718-17.28217494j    4.44295065 -6.7371922j\n   -17.04612809 +1.2324743j  1000.         +0.j        ]]\n"
     ]
    }
   ],
   "source": [
    "V = get_overlap(v,v) #generate overlap matrix\n",
    "print(V)"
   ]
  },
  {
   "cell_type": "code",
   "execution_count": 29,
   "metadata": {},
   "outputs": [],
   "source": [
    "def gs_orth(mtx):\n",
    "    \"\"\"\n",
    "    Input:  mtx: (ndarray) 2d array of complex numbers\n",
    "    Output: mtxres: (ndarray) 2d array of complex numbers\n",
    "\n",
    "    Takes the matrix mtx, conduct the Gram-Schmidt ortholinear procedure\n",
    "    \"\"\"\n",
    "    mtxres = np.zeros_like(mtx)\n",
    "    mtxcp = np.array(mtx) #create copy to not interfere with original data\n",
    "    for j in range(mtx.shape[1]): \n",
    "        mtxres[:,j] = mtxcp[:,j]/np.sqrt(get_overlap(mtxcp[:,j],mtxcp[:,j]))\n",
    "        for k in range(j+1,mtx.shape[1]):\n",
    "            mtxcp[:,k] = mtxcp[:,k] - mtxres[:,j]*get_overlap(mtxres[:,j],mtxcp[:,k])\n",
    "    \n",
    "    return mtxres"
   ]
  },
  {
   "cell_type": "code",
   "execution_count": 30,
   "metadata": {
    "tags": []
   },
   "outputs": [],
   "source": [
    "q = gs_orth(v) #generates matrix with ortholinear properties"
   ]
  },
  {
   "cell_type": "code",
   "execution_count": 35,
   "metadata": {},
   "outputs": [
    {
     "output_type": "stream",
     "name": "stdout",
     "text": [
      "[[ 1.00000000e+00+0.00000000e+00j -1.85940673e-17-7.48099499e-18j\n  -1.29020059e-17+1.04083409e-17j -9.64939934e-18-3.68628739e-17j\n   4.55364912e-18+3.39355280e-17j  5.00901404e-17+2.58582218e-17j\n   8.37004077e-17-3.07913417e-17j  1.04083409e-17+2.16840434e-18j\n   2.37440276e-17+2.35271871e-17j  2.67797937e-17+4.33680869e-17j]\n [-1.85940673e-17+7.48099499e-18j  1.00000000e+00+0.00000000e+00j\n   4.82469967e-17+1.58293517e-17j -1.04083409e-17-3.20923843e-17j\n   2.81892565e-18-4.59701721e-17j  3.01408204e-17+2.24429850e-17j\n  -3.07913417e-17+2.28766658e-17j -1.06251813e-17+8.45677695e-18j\n  -3.13876529e-17+3.63207728e-17j  2.94902991e-17+3.46944695e-18j]\n [-1.29020059e-17-1.04083409e-17j  4.82469967e-17-1.58293517e-17j\n   1.00000000e+00+0.00000000e+00j  3.24718551e-17+2.38524478e-18j\n  -2.12503626e-17-1.36609474e-17j  3.68628739e-18-1.84314369e-17j\n   1.38777878e-17-1.08420217e-17j  9.26992857e-18+4.98732999e-18j\n  -2.90566182e-17-2.81892565e-18j -3.14418630e-17-1.27935856e-17j]\n [-9.64939934e-18+3.68628739e-17j -1.04083409e-17+3.20923843e-17j\n   3.24718551e-17-2.38524478e-18j  1.00000000e+00+0.00000000e+00j\n   9.43255890e-18-7.91467586e-18j -1.76182853e-17-7.80625564e-18j\n   2.03830008e-17+1.16009632e-17j -1.23599048e-17+3.72965547e-17j\n   2.33103467e-17-6.50521303e-18j  3.20923843e-17+2.60208521e-17j]\n [ 4.55364912e-18-3.39355280e-17j  2.81892565e-18+4.59701721e-17j\n  -2.12503626e-17+1.36609474e-17j  9.43255890e-18+7.91467586e-18j\n   1.00000000e+00+0.00000000e+00j -4.33680869e-18-6.93889390e-18j\n   8.67361738e-19+1.25767452e-17j  1.64798730e-17-2.90566182e-17j\n   4.33680869e-19-1.34441069e-17j -1.32272665e-17-4.29344060e-17j]\n [ 5.00901404e-17-2.58582218e-17j  3.01408204e-17-2.24429850e-17j\n   3.68628739e-18+1.84314369e-17j -1.76182853e-17+7.80625564e-18j\n  -4.33680869e-18+6.93889390e-18j  1.00000000e+00+0.00000000e+00j\n  -2.71050543e-17-4.33680869e-18j -2.95987193e-17-2.79724161e-17j\n   3.46944695e-18+7.06899816e-17j -2.28766658e-17+1.92987987e-17j]\n [ 8.37004077e-17+3.07913417e-17j -3.07913417e-17-2.28766658e-17j\n   1.38777878e-17+1.08420217e-17j  2.03830008e-17-1.16009632e-17j\n   8.67361738e-19-1.25767452e-17j -2.71050543e-17+4.33680869e-18j\n   1.00000000e+00+0.00000000e+00j  2.07624716e-17-2.05998413e-18j\n   1.82145965e-17+3.03576608e-18j  4.68375339e-17-9.97465999e-18j]\n [ 1.04083409e-17-2.16840434e-18j -1.06251813e-17-8.45677695e-18j\n   9.26992857e-18-4.98732999e-18j -1.23599048e-17-3.72965547e-17j\n   1.64798730e-17+2.90566182e-17j -2.95987193e-17+2.79724161e-17j\n   2.07624716e-17+2.05998413e-18j  1.00000000e+00+0.00000000e+00j\n  -1.44198889e-17+2.16840434e-19j -8.45677695e-18-5.20417043e-18j]\n [ 2.37440276e-17-2.35271871e-17j -3.13876529e-17-3.63207728e-17j\n  -2.90566182e-17+2.81892565e-18j  2.33103467e-17+6.50521303e-18j\n   4.33680869e-19+1.34441069e-17j  3.46944695e-18-7.06899816e-17j\n   1.82145965e-17-3.03576608e-18j -1.44198889e-17-2.16840434e-19j\n   1.00000000e+00+0.00000000e+00j  6.11490025e-17-2.38524478e-18j]\n [ 2.67797937e-17-4.33680869e-17j  2.94902991e-17-3.46944695e-18j\n  -3.14418630e-17+1.27935856e-17j  3.20923843e-17-2.60208521e-17j\n  -1.32272665e-17+4.29344060e-17j -2.28766658e-17-1.92987987e-17j\n   4.68375339e-17+9.97465999e-18j -8.45677695e-18+5.20417043e-18j\n   6.11490025e-17+2.38524478e-18j  1.00000000e+00+0.00000000e+00j]]\nmatrix Q is the identity matrix? -> True\n"
     ]
    }
   ],
   "source": [
    "Q = get_overlap(q,q)\n",
    "print(Q)\n",
    "print(\"matrix Q is the identity matrix? -> \"+str(np.allclose(Q,np.eye(Q.shape[0]))))\n",
    "#note: since Q is a square matrix, choosing any dimension to create\n",
    "#the known identity matrix is valid, thus we choose the first one (WLOG)"
   ]
  }
 ],
 "metadata": {
  "kernelspec": {
   "name": "python3",
   "display_name": "Python 3",
   "language": "python"
  },
  "language_info": {
   "codemirror_mode": {
    "name": "ipython",
    "version": 3
   },
   "file_extension": ".py",
   "mimetype": "text/x-python",
   "name": "python",
   "nbconvert_exporter": "python",
   "pygments_lexer": "ipython3",
   "version": "3.8.5-final"
  }
 },
 "nbformat": 4,
 "nbformat_minor": 4
}
