{
 "cells": [
  {
   "cell_type": "markdown",
   "id": "4419567c-6ce6-49da-947c-fea013233cf2",
   "metadata": {},
   "source": [
    "# Assignment: Message-Passing Neural Networks\n",
    "Yixin (Allen) Hu"
   ]
  },
  {
   "cell_type": "markdown",
   "id": "876f5c49-87b1-44a2-9388-4674970ccc73",
   "metadata": {},
   "source": [
    "## Question 1: Making data loaders"
   ]
  },
  {
   "cell_type": "markdown",
   "id": "71257d66-2673-48e9-96c6-b616344e8c5d",
   "metadata": {},
   "source": [
    "The objective of this part of the assignment is to load in the data from the .proto files and read them in by using the data loader that has been provided in the mpnn file (with modifications)"
   ]
  },
  {
   "cell_type": "code",
   "execution_count": 1,
   "id": "eb80d3a8-24cb-4139-b091-b31b98b5bd63",
   "metadata": {
    "tags": []
   },
   "outputs": [],
   "source": [
    "%matplotlib inline\n",
    "import sys\n",
    "from matplotlib import pyplot as plt\n",
    "from mpnn.data import make_data_loader\n",
    "from mpnn.layers import Scaling\n",
    "from tensorflow.keras.models import Model\n",
    "from tensorflow.keras import layers\n",
    "from tensorflow.keras.callbacks import EarlyStopping\n",
    "import pandas as pd\n",
    "import tensorflow as tf\n",
    "import numpy as np\n",
    "import warnings\n",
    "from tqdm import tqdm"
   ]
  },
  {
   "cell_type": "markdown",
   "id": "29ca7b61-ac0a-4178-af72-67e80a2e72cd",
   "metadata": {},
   "source": [
    "First, ignore warnings so that the file isn't huge"
   ]
  },
  {
   "cell_type": "code",
   "execution_count": 2,
   "id": "00f375e9-57b4-4e51-bc71-4958885c2969",
   "metadata": {},
   "outputs": [],
   "source": [
    "warnings.filterwarnings('ignore')"
   ]
  },
  {
   "cell_type": "markdown",
   "id": "1078ae9c-53e3-4847-8ba9-e8e95f936b09",
   "metadata": {},
   "source": [
    "Making the data loader..."
   ]
  },
  {
   "cell_type": "code",
   "execution_count": 4,
   "id": "545428d8-b6cc-4681-9e66-cf2103aaddd9",
   "metadata": {},
   "outputs": [],
   "source": [
    "training_loader = make_data_loader('datasets/train_data.proto', batch_size=32, shuffle_buffer=8172)"
   ]
  },
  {
   "cell_type": "code",
   "execution_count": 5,
   "id": "8e48fd6c-169a-4b22-b0b0-2589f0d91f7b",
   "metadata": {},
   "outputs": [],
   "source": [
    "validation_loader = make_data_loader('datasets/valid_data.proto',batch_size=32)"
   ]
  },
  {
   "cell_type": "code",
   "execution_count": 6,
   "id": "e3ab1763-e1c8-4ee1-8681-4d0da6116aa3",
   "metadata": {},
   "outputs": [],
   "source": [
    "test_loader = make_data_loader('datasets/test_data.proto',batch_size=32)"
   ]
  },
  {
   "cell_type": "markdown",
   "id": "ac8d860c-93f8-4452-92cd-46afbb37a16a",
   "metadata": {},
   "source": [
    "### It's generally a rule of thumb to enable \"shuffle\" when creating the training data loader. Why is that? Which parameter do you set?\n",
    "\n",
    "I have set the shuffle_buffer to be 7561 (random large prime number), that is to say, every time we draw data from the training set, it will have an offset of 7561 'observations'. This is important because the shuffle allows us to sample different combinations of data from our training data. In doing so, we would be able to use different training sets for our model, and thus increasing the overall confidence of the model by reducing the possibility of *overfitting*."
   ]
  },
  {
   "cell_type": "code",
   "execution_count": 8,
   "id": "382b7092-08f9-434f-96c4-e7399a4fa410",
   "metadata": {},
   "outputs": [
    {
     "name": "stderr",
     "output_type": "stream",
     "text": [
      "2022-02-21 14:08:17.831006: I tensorflow/compiler/mlir/mlir_graph_optimization_pass.cc:116] None of the MLIR optimization passes are enabled (registered 2)\n",
      "2022-02-21 14:08:17.832739: I tensorflow/core/platform/profile_utils/cpu_utils.cc:112] CPU Frequency: 3593265000 Hz\n"
     ]
    }
   ],
   "source": [
    "res = []\n",
    "run = True\n",
    "\n",
    "if run == True:\n",
    "    for idx in range (100):\n",
    "        inputs, outputs = next(iter(training_loader))\n",
    "        res.append(np.mean(outputs))"
   ]
  },
  {
   "cell_type": "markdown",
   "id": "09989c74-6369-4ed9-9857-0dfdba4547a2",
   "metadata": {},
   "source": [
    "### Sample a few batches from the training data, what is the average of the output variable?\n",
    "\n",
    "After sampling 100 batches with shuffle enabled, I was able to retrieve the following mean of the output variable \"u0_atom\"."
   ]
  },
  {
   "cell_type": "code",
   "execution_count": 9,
   "id": "05a67beb-4e9f-45c6-97f7-7e9f92214198",
   "metadata": {},
   "outputs": [
    {
     "name": "stdout",
     "output_type": "stream",
     "text": [
      "The mean of output variable is around: -2.791029930114746\n"
     ]
    }
   ],
   "source": [
    "print(f'The mean of output variable is around: {np.mean(res)}')"
   ]
  },
  {
   "cell_type": "markdown",
   "id": "d61065e7-e841-4857-9c2b-29ca46c3d929",
   "metadata": {},
   "source": [
    "## Question 2: Training a network for real"
   ]
  },
  {
   "cell_type": "markdown",
   "id": "5a650b5d-1419-416b-9a57-6d07132d63fa",
   "metadata": {},
   "source": [
    "The main objective for this part of the assignment is to follow the steps outlined by the write-up and construct a custom mpnn model. First, adopting the MessagePassingLayer Class from the MPNN notebook:"
   ]
  },
  {
   "cell_type": "code",
   "execution_count": 10,
   "id": "66639007-9efc-4179-a339-8b7ca1170c67",
   "metadata": {},
   "outputs": [],
   "source": [
    "class MessagePassingLayer(layers.Layer):\n",
    "    \"\"\"\n",
    "    Perform the message passing step\n",
    "    Note: This function is directly adopted from the the applied-ai-for-materials\n",
    "    MPNN notebook\n",
    "    \"\"\"\n",
    "\n",
    "    def call(self, atom_features, bond_features, connectivity):\n",
    "        \"\"\"Perform the message passing steps.\n",
    "        \n",
    "        Takes the atom and bond features with the connectivity as inputs\n",
    "        and produces a new set of atom features.\n",
    "        \"\"\"\n",
    "        # Get the features for the atoms at each side of a bond\n",
    "        source_atom = tf.gather(atom_features, connectivity[:, 0])\n",
    "        target_atom = tf.gather(atom_features, connectivity[:, 1])\n",
    "\n",
    "        # Make messages based on the \"far side\" of the bond and the bond type\n",
    "        all_messages = tf.multiply(bond_features, target_atom)\n",
    "\n",
    "        # Sum them up and add them to the original features\n",
    "        messages = tf.math.segment_sum(all_messages, connectivity[:, 0])\n",
    "        atom_features = atom_features + messages\n",
    "        return atom_features"
   ]
  },
  {
   "cell_type": "code",
   "execution_count": 11,
   "id": "bd69cf43-5714-402f-8e47-62cc6af468d8",
   "metadata": {},
   "outputs": [],
   "source": [
    "class Readout(layers.Layer):\n",
    "    \"\"\"\n",
    "    Convert atomic to molecular features\n",
    "    Note: This function is directly adopted from the the applied-ai-for-materials\n",
    "    MPNN notebook\n",
    "    \"\"\"\n",
    "    \n",
    "    def call(self, atom_features, node_graph_indices, readout_fn='sum'):\n",
    "        if(readout_fn == 'sum'):\n",
    "            return tf.math.segment_sum(atom_features, node_graph_indices)\n",
    "        elif(readout_fn =='max'):\n",
    "            return tf.math.segment_max(atom_features, node_graph_indices)"
   ]
  },
  {
   "cell_type": "markdown",
   "id": "231a5025-e07a-468b-9f52-0ff493238144",
   "metadata": {},
   "source": [
    "Now, we add modiciations to the make_model function from the MPNN notebook, where we:\n",
    "\n",
    "1. Add a parameter that allows you change to which readout function is used for the Readout layer.\n",
    "\n",
    "2. Add a Dense layer with 'relu' activation and 32 units between the readout and the output layer.\n",
    "\n",
    "3. Add \"scaling layer\" from mpnn.layers (i.e., from mpnn.layers import Scaling) after the current output layer, use the output of the scaling layer as the output of the model. Pass your Scaling layer a name of \"scaling\" (i.e., Scaling(name='scaling'))"
   ]
  },
  {
   "cell_type": "code",
   "execution_count": 12,
   "id": "dbb91940-c34a-4c7e-b6e1-24aed23ce88c",
   "metadata": {},
   "outputs": [],
   "source": [
    "def make_model(num_features: int, num_messages: int, set_readout_fn='sum'):\n",
    "    \"\"\"Build an MPNN\n",
    "    \n",
    "    \n",
    "    Args:\n",
    "        num_features: Number of features to use to describe each atom and bond\n",
    "        num_messages: Number of message passing steps\n",
    "    Returns:\n",
    "        Keras models that generate molecule property\n",
    "    \"\"\"\n",
    "    \n",
    "    # The first step is to define which inputs to expand and their shapes/types\n",
    "    node_graph_indices = layers.Input(shape=(1,), name='node_graph_indices', dtype='int32')\n",
    "    atom_types = layers.Input(shape=(1,), name='atom', dtype='int32')\n",
    "    bond_types = layers.Input(shape=(1,), name='bond', dtype='int32')\n",
    "    connectivity = layers.Input(shape=(2,), name='connectivity', dtype='int32')\n",
    "\n",
    "    # Squeeze the node graph and connectivity matrices\n",
    "    #  Keras makes all input arrays 2D, I find it easier to deal with them as 1D vectors\n",
    "    #  The squeeze operation removes the second dimension, and I use Kera's Lambda layer\n",
    "    #  to quickly wrap a simple Tensorflow function\n",
    "    squeeze = layers.Lambda(tf.squeeze, arguments={'axis': 1}, name='squeeze')\n",
    "    snode_graph_indices = squeeze(node_graph_indices)\n",
    "    satom_types = squeeze(atom_types)\n",
    "    sbond_types = squeeze(bond_types)\n",
    "    \n",
    "    # Generate initial features for each atom and bond using embeddings\n",
    "    atom_features = layers.Embedding(6, num_features, name='atom_embedding')(satom_types)\n",
    "    bond_features = layers.Embedding(4, num_features, name='bond_embedding')(sbond_types)\n",
    "    \n",
    "    # Perform a few message passing steps\n",
    "    message_layer = MessagePassingLayer(name='message_passing')\n",
    "    for _ in range(num_messages):\n",
    "        atom_features = message_layer(atom_features, bond_features, connectivity)\n",
    "        \n",
    "    # Reduce to a single set of features per molecule\n",
    "    mol_features = Readout(name='readout')(atom_features, snode_graph_indices,readout_fn=set_readout_fn)\n",
    "        \n",
    "    # Add dense layer with 'relu' activation and 32 units\n",
    "    dense_relu = layers.Dense(32, activation='relu', name='dense_relu')(mol_features)\n",
    "\n",
    "    # Create the output layer\n",
    "    output_raw = layers.Dense(1, activation='linear', name='output_raw')(dense_relu)\n",
    "    \n",
    "    # Add Scaling layer\n",
    "    output_scaled = Scaling(name='scaling')(output_raw)\n",
    "    \n",
    "    # Create the models by defining which layers are the inputs and which are the outputs\n",
    "    model = Model(inputs=[node_graph_indices, atom_types, bond_types, connectivity], outputs=output_scaled)\n",
    "    return model"
   ]
  },
  {
   "cell_type": "code",
   "execution_count": 13,
   "id": "9e2efe0f-8595-460c-9419-139560f05909",
   "metadata": {},
   "outputs": [
    {
     "name": "stdout",
     "output_type": "stream",
     "text": [
      "WARNING:tensorflow:AutoGraph could not transform <bound method MessagePassingLayer.call of <__main__.MessagePassingLayer object at 0x7fe3842d9f50>> and will run it as-is.\n",
      "Please report this to the TensorFlow team. When filing the bug, set the verbosity to 10 (on Linux, `export AUTOGRAPH_VERBOSITY=10`) and attach the full output.\n",
      "Cause: module 'gast' has no attribute 'Index'\n",
      "To silence this warning, decorate the function with @tf.autograph.experimental.do_not_convert\n",
      "WARNING: AutoGraph could not transform <bound method MessagePassingLayer.call of <__main__.MessagePassingLayer object at 0x7fe3842d9f50>> and will run it as-is.\n",
      "Please report this to the TensorFlow team. When filing the bug, set the verbosity to 10 (on Linux, `export AUTOGRAPH_VERBOSITY=10`) and attach the full output.\n",
      "Cause: module 'gast' has no attribute 'Index'\n",
      "To silence this warning, decorate the function with @tf.autograph.experimental.do_not_convert\n"
     ]
    }
   ],
   "source": [
    "model = make_model(64,2)"
   ]
  },
  {
   "cell_type": "code",
   "execution_count": 14,
   "id": "408fd68c-56ba-41ef-9420-7f07f592ec4a",
   "metadata": {},
   "outputs": [
    {
     "name": "stdout",
     "output_type": "stream",
     "text": [
      "Model: \"model\"\n",
      "__________________________________________________________________________________________________\n",
      "Layer (type)                    Output Shape         Param #     Connected to                     \n",
      "==================================================================================================\n",
      "atom (InputLayer)               [(None, 1)]          0                                            \n",
      "__________________________________________________________________________________________________\n",
      "bond (InputLayer)               [(None, 1)]          0                                            \n",
      "__________________________________________________________________________________________________\n",
      "squeeze (Lambda)                (None,)              0           node_graph_indices[0][0]         \n",
      "                                                                 atom[0][0]                       \n",
      "                                                                 bond[0][0]                       \n",
      "__________________________________________________________________________________________________\n",
      "atom_embedding (Embedding)      (None, 64)           384         squeeze[1][0]                    \n",
      "__________________________________________________________________________________________________\n",
      "bond_embedding (Embedding)      (None, 64)           256         squeeze[2][0]                    \n",
      "__________________________________________________________________________________________________\n",
      "connectivity (InputLayer)       [(None, 2)]          0                                            \n",
      "__________________________________________________________________________________________________\n",
      "message_passing (MessagePassing (None, 64)           0           atom_embedding[0][0]             \n",
      "                                                                 bond_embedding[0][0]             \n",
      "                                                                 connectivity[0][0]               \n",
      "                                                                 message_passing[0][0]            \n",
      "                                                                 bond_embedding[0][0]             \n",
      "                                                                 connectivity[0][0]               \n",
      "__________________________________________________________________________________________________\n",
      "node_graph_indices (InputLayer) [(None, 1)]          0                                            \n",
      "__________________________________________________________________________________________________\n",
      "readout (Readout)               (None, 64)           0           message_passing[1][0]            \n",
      "                                                                 squeeze[0][0]                    \n",
      "__________________________________________________________________________________________________\n",
      "dense_relu (Dense)              (None, 32)           2080        readout[0][0]                    \n",
      "__________________________________________________________________________________________________\n",
      "output_raw (Dense)              (None, 1)            33          dense_relu[0][0]                 \n",
      "__________________________________________________________________________________________________\n",
      "scaling (Scaling)               (None, 1)            2           output_raw[0][0]                 \n",
      "==================================================================================================\n",
      "Total params: 2,755\n",
      "Trainable params: 2,755\n",
      "Non-trainable params: 0\n",
      "__________________________________________________________________________________________________\n"
     ]
    }
   ],
   "source": [
    "model.summary()"
   ]
  },
  {
   "cell_type": "markdown",
   "id": "464769dc-1655-4faa-9739-7886e1b59a5e",
   "metadata": {},
   "source": [
    "Building models with 0, 1, 2, 4, and 8 message passing layers and plotting their changes in best loss on the test set as a function of number of layers. Of course, we will have to first preseed (scale) our model. Lastly, we will get ready to train our model using an early stopping call-back. Combining all of these into one block of code:"
   ]
  },
  {
   "cell_type": "code",
   "execution_count": 24,
   "id": "9ef2cab6-2988-41ba-80a9-ef157bb07eae",
   "metadata": {},
   "outputs": [
    {
     "name": "stderr",
     "output_type": "stream",
     "text": [
      "100%|████████████████████████████████████████████████████████████████████████| 5/5 [14:58<00:00, 179.64s/it]\n"
     ]
    }
   ],
   "source": [
    "n_mp_layers = [0,1,2,4,8]\n",
    "res = []\n",
    "callback = EarlyStopping(monitor='loss',patience=8,restore_best_weights=True)\n",
    "\n",
    "for n in tqdm(n_mp_layers):\n",
    "    \n",
    "    #making the model\n",
    "    model = make_model(64, n)\n",
    "    \n",
    "    #scaling the model\n",
    "    scale = model.get_layer('scaling')\n",
    "    scale.mean = outputs.numpy().mean()\n",
    "    scale.std = outputs.numpy().std()\n",
    "    \n",
    "    #making early stopping callback and training the model \n",
    "    model.compile(\"adam\",loss='mean_squared_error')\n",
    "    model.fit(training_loader,epochs=128,batch_size=32,verbose=False,callbacks=[callback],validation_data=validation_loader)\n",
    "    \n",
    "    #appending the results\n",
    "    res.append({\n",
    "        'messages': n,\n",
    "        'loss':model.evaluate(test_loader, verbose=False)\n",
    "    })\n",
    "    \n",
    "#This takes about 6 min at 20 epochs"
   ]
  },
  {
   "cell_type": "code",
   "execution_count": 27,
   "id": "b3c01da1-7ca1-4909-8b88-a842e56e901c",
   "metadata": {},
   "outputs": [
    {
     "data": {
      "text/plain": [
       "Text(0, 0.5, 'Test Loss (MSE)')"
      ]
     },
     "execution_count": 27,
     "metadata": {},
     "output_type": "execute_result"
    },
    {
     "data": {
      "image/png": "[encoded data removed]",
      "text/plain": [
       "<Figure size 432x288 with 1 Axes>"
      ]
     },
     "metadata": {
      "needs_background": "light"
     },
     "output_type": "display_data"
    }
   ],
   "source": [
    "fig, ax = plt.subplots()\n",
    "\n",
    "results = pd.DataFrame(res).sort_values('messages')\n",
    "\n",
    "ax.plot(results['messages'],results['loss'], '--o')\n",
    "\n",
    "ax.set_xlabel(\"Number of Layers\")\n",
    "ax.set_ylabel(\"Test Loss (MSE)\")"
   ]
  },
  {
   "cell_type": "markdown",
   "id": "f16f00f9-3d9f-471f-857f-603649ab419f",
   "metadata": {},
   "source": [
    "Notice that as we increase layers, the MSE decreases. Although there is some increase in MSE as layers approach 8, this could possibly be due to random idiosyncracies within the model, and the increase is barely 0.0002, which depending on the context, arguably insignificant. "
   ]
  },
  {
   "cell_type": "markdown",
   "id": "059868a4-fbba-4268-bf62-6a287374fa0f",
   "metadata": {},
   "source": [
    "### Question 3: Evaluate Different Readout Layers"
   ]
  },
  {
   "cell_type": "markdown",
   "id": "bf98b68e-beb3-4849-aaf2-6054a1c111e9",
   "metadata": {},
   "source": [
    "Train a total of 4 models each with 4 message passing steps and 64 features but varying whether we use u0_atom or bandgap to fit the model and whether we use \"sum\" or \"max\" as a readout function:\n",
    "\n",
    "First to make the loaders:"
   ]
  },
  {
   "cell_type": "code",
   "execution_count": 30,
   "id": "f0df2db3-a15c-4722-9f83-935c17fcbe68",
   "metadata": {},
   "outputs": [],
   "source": [
    "training_loader_u0 = make_data_loader('datasets/train_data.proto', batch_size=32, shuffle_buffer=8172,output_property=\"u0_atom\")\n",
    "training_loader_bg = make_data_loader('datasets/train_data.proto', batch_size=32, shuffle_buffer=8172,output_property=\"bandgap\")\n",
    "\n",
    "validation_loader_u0 = make_data_loader('datasets/valid_data.proto',batch_size=32,output_property=\"u0_atom\")\n",
    "validation_loader_bg = make_data_loader('datasets/valid_data.proto',batch_size=32,output_property=\"bandgap\")\n",
    "\n",
    "test_loader_u0 = make_data_loader('datasets/test_data.proto',batch_size=32,output_property=\"u0_atom\")\n",
    "test_loader_bg = make_data_loader('datasets/test_data.proto',batch_size=32,output_property=\"bandgap\")"
   ]
  },
  {
   "cell_type": "markdown",
   "id": "44c980b5-4dad-4b3a-98f3-fd9966605806",
   "metadata": {},
   "source": [
    "Now setting up the models with different readouts"
   ]
  },
  {
   "cell_type": "code",
   "execution_count": 42,
   "id": "c175e061-8970-451f-a900-78c77623bbfb",
   "metadata": {},
   "outputs": [
    {
     "name": "stderr",
     "output_type": "stream",
     "text": [
      "  0%|                                                                                 | 0/2 [00:00<?, ?it/s]"
     ]
    },
    {
     "name": "stdout",
     "output_type": "stream",
     "text": [
      "done processing [u0_atom,sum]\n"
     ]
    },
    {
     "name": "stderr",
     "output_type": "stream",
     "text": [
      " 50%|████████████████████████████████████                                    | 1/2 [04:15<04:15, 255.43s/it]"
     ]
    },
    {
     "name": "stdout",
     "output_type": "stream",
     "text": [
      "done processing [u0_atom,max]\n",
      "done processing [bandgap,sum]\n"
     ]
    },
    {
     "name": "stderr",
     "output_type": "stream",
     "text": [
      "100%|████████████████████████████████████████████████████████████████████████| 2/2 [05:38<00:00, 169.29s/it]"
     ]
    },
    {
     "name": "stdout",
     "output_type": "stream",
     "text": [
      "done processing [bandgap,max]\n"
     ]
    },
    {
     "name": "stderr",
     "output_type": "stream",
     "text": [
      "\n"
     ]
    }
   ],
   "source": [
    "otpt_lst = [\"u0_atom\",\"bandgap\"]\n",
    "readout_lst = [\"sum\",\"max\"]\n",
    "res_q3 = []\n",
    "\n",
    "for otpt_var in tqdm(otpt_lst):\n",
    "    for readout_type in readout_lst:\n",
    "        #making the model\n",
    "        model = make_model(64, 4,set_readout_fn=readout_type)\n",
    "\n",
    "        #scaling the model\n",
    "        scale = model.get_layer('scaling')\n",
    "        scale.mean = outputs.numpy().mean()\n",
    "        scale.std = outputs.numpy().std()\n",
    "\n",
    "        #making early stopping callback and training the model \n",
    "        model.compile(\"adam\",loss='mean_squared_error')\n",
    "        if otpt_var == \"u0_atom\":\n",
    "            model.fit(training_loader_u0,epochs=30,batch_size=32,verbose=False,callbacks=[callback],validation_data=validation_loader_u0)\n",
    "            \n",
    "            #appending the results\n",
    "            res_q3.append({\n",
    "            'output': otpt_var,\n",
    "            'readout': readout_type,\n",
    "            'y_preds':model.predict(test_loader_u0),\n",
    "            'y_trues':np.hstack([x[1] for x in test_loader_u0]),\n",
    "            'loss':model.evaluate(test_loader_u0, verbose=False)\n",
    "        })  \n",
    "            \n",
    "        else:\n",
    "            model.fit(training_loader_bg,epochs=10,batch_size=32,verbose=False,callbacks=[callback],validation_data=validation_loader_bg)\n",
    "            \n",
    "            #appending the results\n",
    "            res_q3.append({\n",
    "            'output': otpt_var,\n",
    "            'readout': readout_type,\n",
    "            'y_preds':model.predict(test_loader_bg),\n",
    "            'y_trues':np.hstack([x[1] for x in test_loader_bg]),\n",
    "            'loss':model.evaluate(test_loader_bg, verbose=False)\n",
    "        })\n",
    "            \n",
    "        print(f'done processing [{otpt_var},{readout_type}]')"
   ]
  },
  {
   "cell_type": "code",
   "execution_count": 57,
   "id": "719a111a-403e-4838-8b7d-ec932e422f8f",
   "metadata": {},
   "outputs": [
    {
     "data": {
      "image/png": "[encoded data removed]",
      "text/plain": [
       "<Figure size 432x288 with 1 Axes>"
      ]
     },
     "metadata": {
      "needs_background": "light"
     },
     "output_type": "display_data"
    },
    {
     "data": {
      "image/png": "[encoded data removed]",
      "text/plain": [
       "<Figure size 432x288 with 1 Axes>"
      ]
     },
     "metadata": {
      "needs_background": "light"
     },
     "output_type": "display_data"
    },
    {
     "data": {
      "image/png": "[encoded data removed]",
      "text/plain": [
       "<Figure size 432x288 with 1 Axes>"
      ]
     },
     "metadata": {
      "needs_background": "light"
     },
     "output_type": "display_data"
    },
    {
     "data": {
      "image/png": "[encoded data removed]",
      "text/plain": [
       "<Figure size 432x288 with 1 Axes>"
      ]
     },
     "metadata": {
      "needs_background": "light"
     },
     "output_type": "display_data"
    }
   ],
   "source": [
    "results = pd.DataFrame(res_q3)\n",
    "\n",
    "\n",
    "for index, row in results.iterrows():\n",
    "    fig, ax = plt.subplots()\n",
    "    ax.scatter(row['y_preds'], row['y_trues'])\n",
    "    ax.set_xlabel('$E_{atom}$, DFT (Ha)')\n",
    "    ax.set_ylabel('$E_{atom}$, ML (Ha)')\n",
    "    ax.set_title(f'Graph for {row[\"output\"]} Using {row[\"readout\"]} Readout with MSE of {round(row[\"loss\"],5)}')"
   ]
  },
  {
   "cell_type": "markdown",
   "id": "f137c96c-8912-47d8-99b8-6b54948022f5",
   "metadata": {},
   "source": [
    "Notice that some readout functions are better than others, even if everything else in the model is the same. Since band gaps do not have scaling behavior, we are able to fit a better graph (lower MSE) using the *max* readout relative to the *sum* readout. Vice versa, atomization energy scales with the size of the molecule, so using *sum* as our callout reflects the underlying physics: more atoms implies larger energies.  "
   ]
  }
 ],
 "metadata": {
  "kernelspec": {
   "display_name": "Applied AI",
   "language": "python",
   "name": "applied-ai"
  },
  "language_info": {
   "codemirror_mode": {
    "name": "ipython",
    "version": 3
   },
   "file_extension": ".py",
   "mimetype": "text/x-python",
   "name": "python",
   "nbconvert_exporter": "python",
   "pygments_lexer": "ipython3",
   "version": "3.7.12"
  }
 },
 "nbformat": 4,
 "nbformat_minor": 5
}
